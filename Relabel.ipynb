{
 "cells": [
  {
   "cell_type": "code",
   "execution_count": 1,
   "metadata": {
    "collapsed": true
   },
   "outputs": [],
   "source": [
    "import pandas as pd\n",
    "import numpy as np\n",
    "import math"
   ]
  },
  {
   "cell_type": "code",
   "execution_count": 2,
   "metadata": {},
   "outputs": [
    {
     "data": {
      "text/html": [
       "<div>\n",
       "<style>\n",
       "    .dataframe thead tr:only-child th {\n",
       "        text-align: right;\n",
       "    }\n",
       "\n",
       "    .dataframe thead th {\n",
       "        text-align: left;\n",
       "    }\n",
       "\n",
       "    .dataframe tbody tr th {\n",
       "        vertical-align: top;\n",
       "    }\n",
       "</style>\n",
       "<table border=\"1\" class=\"dataframe\">\n",
       "  <thead>\n",
       "    <tr style=\"text-align: right;\">\n",
       "      <th></th>\n",
       "      <th>id</th>\n",
       "      <th>breed</th>\n",
       "    </tr>\n",
       "  </thead>\n",
       "  <tbody>\n",
       "    <tr>\n",
       "      <th>0</th>\n",
       "      <td>000bec180eb18c7604dcecc8fe0dba07</td>\n",
       "      <td>boston_bull</td>\n",
       "    </tr>\n",
       "    <tr>\n",
       "      <th>1</th>\n",
       "      <td>001513dfcb2ffafc82cccf4d8bbaba97</td>\n",
       "      <td>dingo</td>\n",
       "    </tr>\n",
       "    <tr>\n",
       "      <th>2</th>\n",
       "      <td>001cdf01b096e06d78e9e5112d419397</td>\n",
       "      <td>pekinese</td>\n",
       "    </tr>\n",
       "    <tr>\n",
       "      <th>3</th>\n",
       "      <td>00214f311d5d2247d5dfe4fe24b2303d</td>\n",
       "      <td>bluetick</td>\n",
       "    </tr>\n",
       "    <tr>\n",
       "      <th>4</th>\n",
       "      <td>0021f9ceb3235effd7fcde7f7538ed62</td>\n",
       "      <td>golden_retriever</td>\n",
       "    </tr>\n",
       "  </tbody>\n",
       "</table>\n",
       "</div>"
      ],
      "text/plain": [
       "                                 id             breed\n",
       "0  000bec180eb18c7604dcecc8fe0dba07       boston_bull\n",
       "1  001513dfcb2ffafc82cccf4d8bbaba97             dingo\n",
       "2  001cdf01b096e06d78e9e5112d419397          pekinese\n",
       "3  00214f311d5d2247d5dfe4fe24b2303d          bluetick\n",
       "4  0021f9ceb3235effd7fcde7f7538ed62  golden_retriever"
      ]
     },
     "execution_count": 2,
     "metadata": {},
     "output_type": "execute_result"
    }
   ],
   "source": [
    "breed_set=pd.read_csv(\"labels.csv\")\n",
    "breed_set.head()"
   ]
  },
  {
   "cell_type": "code",
   "execution_count": 3,
   "metadata": {},
   "outputs": [
    {
     "data": {
      "text/html": [
       "<div>\n",
       "<style>\n",
       "    .dataframe thead tr:only-child th {\n",
       "        text-align: right;\n",
       "    }\n",
       "\n",
       "    .dataframe thead th {\n",
       "        text-align: left;\n",
       "    }\n",
       "\n",
       "    .dataframe tbody tr th {\n",
       "        vertical-align: top;\n",
       "    }\n",
       "</style>\n",
       "<table border=\"1\" class=\"dataframe\">\n",
       "  <thead>\n",
       "    <tr style=\"text-align: right;\">\n",
       "      <th></th>\n",
       "      <th>id</th>\n",
       "      <th>breed</th>\n",
       "      <th>label_new</th>\n",
       "    </tr>\n",
       "  </thead>\n",
       "  <tbody>\n",
       "    <tr>\n",
       "      <th>0</th>\n",
       "      <td>000bec180eb18c7604dcecc8fe0dba07</td>\n",
       "      <td>boston_bull</td>\n",
       "      <td>boston_bull</td>\n",
       "    </tr>\n",
       "    <tr>\n",
       "      <th>1</th>\n",
       "      <td>001513dfcb2ffafc82cccf4d8bbaba97</td>\n",
       "      <td>dingo</td>\n",
       "      <td>dingo</td>\n",
       "    </tr>\n",
       "    <tr>\n",
       "      <th>2</th>\n",
       "      <td>001cdf01b096e06d78e9e5112d419397</td>\n",
       "      <td>pekinese</td>\n",
       "      <td>pekinese</td>\n",
       "    </tr>\n",
       "    <tr>\n",
       "      <th>3</th>\n",
       "      <td>00214f311d5d2247d5dfe4fe24b2303d</td>\n",
       "      <td>bluetick</td>\n",
       "      <td>bluetick</td>\n",
       "    </tr>\n",
       "    <tr>\n",
       "      <th>4</th>\n",
       "      <td>0021f9ceb3235effd7fcde7f7538ed62</td>\n",
       "      <td>golden_retriever</td>\n",
       "      <td>golden_retriever</td>\n",
       "    </tr>\n",
       "  </tbody>\n",
       "</table>\n",
       "</div>"
      ],
      "text/plain": [
       "                                 id             breed         label_new\n",
       "0  000bec180eb18c7604dcecc8fe0dba07       boston_bull       boston_bull\n",
       "1  001513dfcb2ffafc82cccf4d8bbaba97             dingo             dingo\n",
       "2  001cdf01b096e06d78e9e5112d419397          pekinese          pekinese\n",
       "3  00214f311d5d2247d5dfe4fe24b2303d          bluetick          bluetick\n",
       "4  0021f9ceb3235effd7fcde7f7538ed62  golden_retriever  golden_retriever"
      ]
     },
     "execution_count": 3,
     "metadata": {},
     "output_type": "execute_result"
    }
   ],
   "source": [
    "breed_set['label_new'] = breed_set['breed']\n",
    "# breed_set['L1'] = breed_set['breed']\n",
    "# breed_set['L2'] = breed_set['breed']\n",
    "# breed_set['L3'] = breed_set['breed']\n",
    "# breed_set['L4'] = breed_set['breed']\n",
    "# breed_set['L5'] = breed_set['breed']\n",
    "# breed_set['L6'] = breed_set['breed']\n",
    "breed_set.head()"
   ]
  },
  {
   "cell_type": "code",
   "execution_count": 4,
   "metadata": {
    "collapsed": true
   },
   "outputs": [],
   "source": [
    "relabel_prop=0.5"
   ]
  },
  {
   "cell_type": "code",
   "execution_count": 5,
   "metadata": {},
   "outputs": [
    {
     "data": {
      "text/html": [
       "<div>\n",
       "<style>\n",
       "    .dataframe thead tr:only-child th {\n",
       "        text-align: right;\n",
       "    }\n",
       "\n",
       "    .dataframe thead th {\n",
       "        text-align: left;\n",
       "    }\n",
       "\n",
       "    .dataframe tbody tr th {\n",
       "        vertical-align: top;\n",
       "    }\n",
       "</style>\n",
       "<table border=\"1\" class=\"dataframe\">\n",
       "  <thead>\n",
       "    <tr style=\"text-align: right;\">\n",
       "      <th></th>\n",
       "      <th>L1</th>\n",
       "      <th>L2</th>\n",
       "      <th>L3</th>\n",
       "      <th>L4</th>\n",
       "      <th>L5</th>\n",
       "      <th>L6</th>\n",
       "    </tr>\n",
       "  </thead>\n",
       "  <tbody>\n",
       "    <tr>\n",
       "      <th>0</th>\n",
       "      <td>domestic_dog</td>\n",
       "      <td>hunting_dog</td>\n",
       "      <td>sporting_dog</td>\n",
       "      <td>pointer</td>\n",
       "      <td>vizsla</td>\n",
       "      <td>NaN</td>\n",
       "    </tr>\n",
       "    <tr>\n",
       "      <th>1</th>\n",
       "      <td>domestic_dog</td>\n",
       "      <td>hunting_dog</td>\n",
       "      <td>sporting_dog</td>\n",
       "      <td>pointer</td>\n",
       "      <td>german_short-haired_pointer</td>\n",
       "      <td>NaN</td>\n",
       "    </tr>\n",
       "    <tr>\n",
       "      <th>2</th>\n",
       "      <td>domestic_dog</td>\n",
       "      <td>hunting_dog</td>\n",
       "      <td>sporting_dog</td>\n",
       "      <td>setter</td>\n",
       "      <td>english_setter</td>\n",
       "      <td>NaN</td>\n",
       "    </tr>\n",
       "    <tr>\n",
       "      <th>3</th>\n",
       "      <td>domestic_dog</td>\n",
       "      <td>hunting_dog</td>\n",
       "      <td>sporting_dog</td>\n",
       "      <td>setter</td>\n",
       "      <td>gordon_setter</td>\n",
       "      <td>NaN</td>\n",
       "    </tr>\n",
       "    <tr>\n",
       "      <th>4</th>\n",
       "      <td>domestic_dog</td>\n",
       "      <td>hunting_dog</td>\n",
       "      <td>sporting_dog</td>\n",
       "      <td>setter</td>\n",
       "      <td>irish_setter</td>\n",
       "      <td>NaN</td>\n",
       "    </tr>\n",
       "  </tbody>\n",
       "</table>\n",
       "</div>"
      ],
      "text/plain": [
       "             L1           L2            L3       L4  \\\n",
       "0  domestic_dog  hunting_dog  sporting_dog  pointer   \n",
       "1  domestic_dog  hunting_dog  sporting_dog  pointer   \n",
       "2  domestic_dog  hunting_dog  sporting_dog   setter   \n",
       "3  domestic_dog  hunting_dog  sporting_dog   setter   \n",
       "4  domestic_dog  hunting_dog  sporting_dog   setter   \n",
       "\n",
       "                            L5   L6  \n",
       "0                       vizsla  NaN  \n",
       "1  german_short-haired_pointer  NaN  \n",
       "2               english_setter  NaN  \n",
       "3                gordon_setter  NaN  \n",
       "4                 irish_setter  NaN  "
      ]
     },
     "execution_count": 5,
     "metadata": {},
     "output_type": "execute_result"
    }
   ],
   "source": [
    "hier_set=pd.read_csv(\"dataset/DogHierarchy.csv\",usecols=['L1','L2','L3','L4','L5','L6'])\n",
    "hier_set.head()"
   ]
  },
  {
   "cell_type": "code",
   "execution_count": 6,
   "metadata": {
    "collapsed": true
   },
   "outputs": [],
   "source": [
    "hier_set=hier_set.replace(np.nan, '', regex=True)"
   ]
  },
  {
   "cell_type": "code",
   "execution_count": 7,
   "metadata": {},
   "outputs": [
    {
     "data": {
      "text/plain": [
       "array(['domestic_dog', 'wild_dog'], dtype=object)"
      ]
     },
     "execution_count": 7,
     "metadata": {},
     "output_type": "execute_result"
    }
   ],
   "source": [
    "L1_all=hier_set['L1'].unique()\n",
    "L2_all=hier_set['L2'].unique()\n",
    "L3_all=hier_set['L3'].unique()\n",
    "L4_all=hier_set['L4'].unique()\n",
    "L5_all=hier_set['L5'].unique()\n",
    "L6_all=hier_set['L6'].unique()\n",
    "L1_all"
   ]
  },
  {
   "cell_type": "code",
   "execution_count": 8,
   "metadata": {
    "collapsed": true
   },
   "outputs": [],
   "source": [
    "def relation(l1,l2):\n",
    "    for i in range(n):\n",
    "        hier=tuple(hier_set.iloc[i,l1:l2])\n",
    "        \n",
    "        parent=hier[0]\n",
    "        child=hier[1]\n",
    "        if child!='':\n",
    "            t[child]=parent"
   ]
  },
  {
   "cell_type": "code",
   "execution_count": 9,
   "metadata": {},
   "outputs": [
    {
     "data": {
      "text/plain": [
       "{'affenpinscher': 'pinscher',\n",
       " 'afghan_hound': 'hound_dog',\n",
       " 'african_hunting_dog': 'wild_dog',\n",
       " 'airedale': 'terrier',\n",
       " 'american_staffordshire_terrier': 'bullterrier',\n",
       " 'appenzeller': 'sennenhunde',\n",
       " 'australian_terrier': 'terrier',\n",
       " 'basenji': 'domestic_dog',\n",
       " 'basset': 'hound_dog',\n",
       " 'beagle': 'hound_dog',\n",
       " 'bedlington_terrier': 'terrier',\n",
       " 'belgian_sheepdog': 'shepherd_sheepdog',\n",
       " 'bernese_mountain_dog': 'sennenhunde',\n",
       " 'black-and-tan_coonhound': 'hound_dog',\n",
       " 'blenheim_spaniel': 'english_toy_spaniel',\n",
       " 'bloodhound': 'hound_dog',\n",
       " 'bluetick': 'hound_dog',\n",
       " 'border_collie': 'shepherd_sheepdog',\n",
       " 'border_terrier': 'terrier',\n",
       " 'borzoi': 'wolfhound',\n",
       " 'boston_bull': 'terrier',\n",
       " 'bouvier_des_flandres': 'shepherd_sheepdog',\n",
       " 'boxer': 'working_dog',\n",
       " 'brabancon_griffon': 'domestic_dog',\n",
       " 'briard': 'shepherd_sheepdog',\n",
       " 'brittany_spaniel': 'spaniel',\n",
       " 'bull_mastiff': 'working_dog',\n",
       " 'bullterrier': 'terrier',\n",
       " 'cairn': 'terrier',\n",
       " 'cardigan': 'corgi',\n",
       " 'chesapeake_bay_retriever': 'retriever',\n",
       " 'chihuahua': 'toy_dog',\n",
       " 'chow': 'spitz',\n",
       " 'clumber': 'spaniel',\n",
       " 'cocker_spaniel': 'spaniel',\n",
       " 'collie': 'shepherd_sheepdog',\n",
       " 'corgi': 'domestic_dog',\n",
       " 'curly-coated_retriever': 'retriever',\n",
       " 'dachshund': 'hunting_dog',\n",
       " 'dandie_dinmont': 'terrier',\n",
       " 'dhole': 'wild_dog',\n",
       " 'dingo': 'wild_dog',\n",
       " 'doberman': 'pinscher',\n",
       " 'english_foxhound': 'foxbound',\n",
       " 'english_setter': 'setter',\n",
       " 'english_springer': 'springer_spaniel',\n",
       " 'english_toy_spaniel': 'toy_spaniel',\n",
       " 'entlebucher': 'sennenhunde',\n",
       " 'eskimo_dog': 'working_dog',\n",
       " 'flat-coated_retriever': 'retriever',\n",
       " 'foxbound': 'hound_dog',\n",
       " 'french_bulldog': 'working_dog',\n",
       " 'german_shepherd': 'shepherd_sheepdog',\n",
       " 'german_short-haired_pointer': 'pointer',\n",
       " 'giant_schnauzer': 'schnauzer',\n",
       " 'golden_retriever': 'retriever',\n",
       " 'gordon_setter': 'setter',\n",
       " 'great_dane': 'working_dog',\n",
       " 'great_pyrenees': 'domestic_dog',\n",
       " 'greater_swiss_mountain_dog': 'sennenhunde',\n",
       " 'greyhound': 'hound_dog',\n",
       " 'groenendael': 'belgian_sheepdog',\n",
       " 'hound_dog': 'hunting_dog',\n",
       " 'hunting_dog': 'domestic_dog',\n",
       " 'ibizan_hound': 'hound_dog',\n",
       " 'irish_setter': 'setter',\n",
       " 'irish_terrier': 'terrier',\n",
       " 'irish_water_spaniel': 'spaniel',\n",
       " 'irish_wolfhound': 'wolfhound',\n",
       " 'italian_greyhound': 'greyhound',\n",
       " 'japanese_spaniel': 'toy_dog',\n",
       " 'keeshond': 'spitz',\n",
       " 'kelpie': 'shepherd_sheepdog',\n",
       " 'kerry_blue_terrier': 'terrier',\n",
       " 'komondor': 'shepherd_sheepdog',\n",
       " 'kuvasz': 'watchdog',\n",
       " 'labrador_retriever': 'retriever',\n",
       " 'lakeland_terrier': 'wirehaired terrier',\n",
       " 'leonberg': 'domestic_dog',\n",
       " 'lhasa': 'terrier',\n",
       " 'malamute': 'sledge_dog',\n",
       " 'malinois': 'belgian_sheepdog',\n",
       " 'maltese_dog': 'toy_dog',\n",
       " 'mexican_hairless': 'domestic_dog',\n",
       " 'miniature_pinscher': 'pinscher',\n",
       " 'miniature_poodle': 'poodle_dog',\n",
       " 'miniature_schnauzer': 'schnauzer',\n",
       " 'newfoundland': 'domestic_dog',\n",
       " 'norfolk_terrier': 'terrier',\n",
       " 'norwegian_elkhound': 'hound_dog',\n",
       " 'norwich_terrier': 'terrier',\n",
       " 'old_english_sheepdog': 'shepherd_sheepdog',\n",
       " 'otterhound': 'hound_dog',\n",
       " 'papillon': 'toy_spaniel',\n",
       " 'pekinese': 'toy_dog',\n",
       " 'pembroke': 'corgi',\n",
       " 'pinscher': 'watchdog',\n",
       " 'pointer': 'sporting_dog',\n",
       " 'pomeranian': 'spitz',\n",
       " 'poodle_dog': 'domestic_dog',\n",
       " 'pug': 'domestic_dog',\n",
       " 'redbone': 'hound_dog',\n",
       " 'retriever': 'sporting_dog',\n",
       " 'rhodesian_ridgeback': 'hunting_dog',\n",
       " 'rottweiler': 'shepherd_sheepdog',\n",
       " 'saint_bernard': 'working_dog',\n",
       " 'saluki': 'hound_dog',\n",
       " 'samoyed': 'spitz',\n",
       " 'sausage_dog': 'dachshund',\n",
       " 'schipperke': 'watchdog',\n",
       " 'schnauzer': 'terrier',\n",
       " 'scotch_terrier': 'terrier',\n",
       " 'scottish_deerhound': 'hound_dog',\n",
       " 'sealyham_terrier': 'wirehaired terrier',\n",
       " 'sennenhunde': 'working_dog',\n",
       " 'setter': 'sporting_dog',\n",
       " 'shepherd_sheepdog': 'working_dog',\n",
       " 'shetland_sheepdog': 'shepherd_sheepdog',\n",
       " 'shih-tzu': 'toy_dog',\n",
       " 'siberian_husky': 'sledge_dog',\n",
       " 'silky_terrier': 'terrier',\n",
       " 'sledge_dog': 'working_dog',\n",
       " 'soft-coated_wheaten_terrier': 'terrier',\n",
       " 'spaniel': 'sporting_dog',\n",
       " 'spitz': 'domestic_dog',\n",
       " 'sporting_dog': 'hunting_dog',\n",
       " 'springer_spaniel': 'spaniel',\n",
       " 'staffordshire_bullterrier': 'bullterrier',\n",
       " 'standard_poodle': 'poodle_dog',\n",
       " 'standard_schnauzer': 'schnauzer',\n",
       " 'sussex_spaniel': 'spaniel',\n",
       " 'terrier': 'hunting_dog',\n",
       " 'tibetan_mastiff': 'working_dog',\n",
       " 'tibetan_terrier': 'terrier',\n",
       " 'toy_dog': 'domestic_dog',\n",
       " 'toy_poodle': 'poodle_dog',\n",
       " 'toy_spaniel': 'toy_dog',\n",
       " 'toy_terrier': 'toy_dog',\n",
       " 'vizsla': 'pointer',\n",
       " 'walker_hound': 'foxbound',\n",
       " 'watchdog': 'working_dog',\n",
       " 'weimaraner': 'hound_dog',\n",
       " 'welsh_springer_spaniel': 'springer_spaniel',\n",
       " 'west_highland_white_terrier': 'terrier',\n",
       " 'whippet': 'greyhound',\n",
       " 'wire-haired_fox_terrier': 'terrier',\n",
       " 'wirehaired terrier': 'terrier',\n",
       " 'wolfhound': 'hound_dog',\n",
       " 'working_dog': 'domestic_dog',\n",
       " 'yorkshire_terrier': 'terrier'}"
      ]
     },
     "execution_count": 9,
     "metadata": {},
     "output_type": "execute_result"
    }
   ],
   "source": [
    "n=hier_set.shape[0]\n",
    "t=dict()\n",
    "relation(0,2)\n",
    "relation(1,3)\n",
    "relation(2,4)\n",
    "relation(3,5)\n",
    "relation(4,6)\n",
    "t"
   ]
  },
  {
   "cell_type": "markdown",
   "metadata": {},
   "source": [
    "## L6 "
   ]
  },
  {
   "cell_type": "code",
   "execution_count": 10,
   "metadata": {},
   "outputs": [],
   "source": [
    "idx=breed_set.index[breed_set['label_new'].isin(L6_all)]\n",
    "tochange=np.random.choice(idx,size=int(idx.size/2), replace=False)"
   ]
  },
  {
   "cell_type": "code",
   "execution_count": 11,
   "metadata": {},
   "outputs": [],
   "source": [
    "for i in tochange:\n",
    "    br=breed_set.iloc[i]['label_new']\n",
    "    parent=t[br]\n",
    "    breed_set.loc[i].label_new=parent    "
   ]
  },
  {
   "cell_type": "markdown",
   "metadata": {},
   "source": [
    "# L5"
   ]
  },
  {
   "cell_type": "code",
   "execution_count": 12,
   "metadata": {},
   "outputs": [],
   "source": [
    "idx=breed_set.index[breed_set['label_new'].isin(L5_all)]\n",
    "tochange=np.random.choice(idx,size=int(idx.size/2), replace=False)"
   ]
  },
  {
   "cell_type": "code",
   "execution_count": 13,
   "metadata": {},
   "outputs": [],
   "source": [
    "for i in tochange:\n",
    "    br=breed_set.iloc[i]['label_new']\n",
    "    parent=t[br]\n",
    "    breed_set.loc[i].label_new=parent "
   ]
  },
  {
   "cell_type": "markdown",
   "metadata": {},
   "source": [
    "# L4"
   ]
  },
  {
   "cell_type": "code",
   "execution_count": 14,
   "metadata": {
    "collapsed": true
   },
   "outputs": [],
   "source": [
    "idx=breed_set.index[breed_set['label_new'].isin(L4_all)]\n",
    "tochange=np.random.choice(idx,size=int(idx.size/2), replace=False)\n",
    "for i in tochange:\n",
    "    br=breed_set.iloc[i]['label_new']\n",
    "    parent=t[br]\n",
    "    breed_set.loc[i].label_new=parent"
   ]
  },
  {
   "cell_type": "markdown",
   "metadata": {},
   "source": [
    "# L3"
   ]
  },
  {
   "cell_type": "code",
   "execution_count": 15,
   "metadata": {
    "collapsed": true
   },
   "outputs": [],
   "source": [
    "idx=breed_set.index[breed_set['label_new'].isin(L3_all)]\n",
    "tochange=np.random.choice(idx,size=int(idx.size/2), replace=False)\n",
    "for i in tochange:\n",
    "    br=breed_set.iloc[i]['label_new']\n",
    "    parent=t[br]\n",
    "    breed_set.loc[i].label_new=parent"
   ]
  },
  {
   "cell_type": "markdown",
   "metadata": {},
   "source": [
    "# L2"
   ]
  },
  {
   "cell_type": "code",
   "execution_count": 16,
   "metadata": {
    "collapsed": true
   },
   "outputs": [],
   "source": [
    "idx=breed_set.index[breed_set['label_new'].isin(L2_all)]\n",
    "tochange=np.random.choice(idx,size=int(idx.size/2), replace=False)\n",
    "for i in tochange:\n",
    "    br=breed_set.iloc[i]['label_new']\n",
    "    parent=t[br]\n",
    "    breed_set.loc[i].label_new=parent"
   ]
  },
  {
   "cell_type": "code",
   "execution_count": 18,
   "metadata": {
    "collapsed": true
   },
   "outputs": [],
   "source": [
    "breed_set.to_csv(\"new_labels.csv\", encoding='utf-8',index=False)"
   ]
  },
  {
   "cell_type": "markdown",
   "metadata": {},
   "source": [
    "# Remove extra columns for new dataset"
   ]
  },
  {
   "cell_type": "code",
   "execution_count": 19,
   "metadata": {},
   "outputs": [
    {
     "data": {
      "text/html": [
       "<div>\n",
       "<style>\n",
       "    .dataframe thead tr:only-child th {\n",
       "        text-align: right;\n",
       "    }\n",
       "\n",
       "    .dataframe thead th {\n",
       "        text-align: left;\n",
       "    }\n",
       "\n",
       "    .dataframe tbody tr th {\n",
       "        vertical-align: top;\n",
       "    }\n",
       "</style>\n",
       "<table border=\"1\" class=\"dataframe\">\n",
       "  <thead>\n",
       "    <tr style=\"text-align: right;\">\n",
       "      <th></th>\n",
       "      <th>id</th>\n",
       "      <th>label_new</th>\n",
       "    </tr>\n",
       "  </thead>\n",
       "  <tbody>\n",
       "    <tr>\n",
       "      <th>0</th>\n",
       "      <td>000bec180eb18c7604dcecc8fe0dba07</td>\n",
       "      <td>boston_bull</td>\n",
       "    </tr>\n",
       "    <tr>\n",
       "      <th>1</th>\n",
       "      <td>001513dfcb2ffafc82cccf4d8bbaba97</td>\n",
       "      <td>dingo</td>\n",
       "    </tr>\n",
       "    <tr>\n",
       "      <th>2</th>\n",
       "      <td>001cdf01b096e06d78e9e5112d419397</td>\n",
       "      <td>toy_dog</td>\n",
       "    </tr>\n",
       "    <tr>\n",
       "      <th>3</th>\n",
       "      <td>00214f311d5d2247d5dfe4fe24b2303d</td>\n",
       "      <td>bluetick</td>\n",
       "    </tr>\n",
       "    <tr>\n",
       "      <th>4</th>\n",
       "      <td>0021f9ceb3235effd7fcde7f7538ed62</td>\n",
       "      <td>golden_retriever</td>\n",
       "    </tr>\n",
       "  </tbody>\n",
       "</table>\n",
       "</div>"
      ],
      "text/plain": [
       "                                 id         label_new\n",
       "0  000bec180eb18c7604dcecc8fe0dba07       boston_bull\n",
       "1  001513dfcb2ffafc82cccf4d8bbaba97             dingo\n",
       "2  001cdf01b096e06d78e9e5112d419397           toy_dog\n",
       "3  00214f311d5d2247d5dfe4fe24b2303d          bluetick\n",
       "4  0021f9ceb3235effd7fcde7f7538ed62  golden_retriever"
      ]
     },
     "execution_count": 19,
     "metadata": {},
     "output_type": "execute_result"
    }
   ],
   "source": [
    "new=pd.read_csv(\"new_labels.csv\",usecols=['id','label_new'])\n",
    "new.head()"
   ]
  },
  {
   "cell_type": "code",
   "execution_count": 20,
   "metadata": {
    "collapsed": true
   },
   "outputs": [],
   "source": [
    "new.columns = ['id', 'breed']"
   ]
  },
  {
   "cell_type": "code",
   "execution_count": 21,
   "metadata": {},
   "outputs": [
    {
     "data": {
      "text/html": [
       "<div>\n",
       "<style>\n",
       "    .dataframe thead tr:only-child th {\n",
       "        text-align: right;\n",
       "    }\n",
       "\n",
       "    .dataframe thead th {\n",
       "        text-align: left;\n",
       "    }\n",
       "\n",
       "    .dataframe tbody tr th {\n",
       "        vertical-align: top;\n",
       "    }\n",
       "</style>\n",
       "<table border=\"1\" class=\"dataframe\">\n",
       "  <thead>\n",
       "    <tr style=\"text-align: right;\">\n",
       "      <th></th>\n",
       "      <th>id</th>\n",
       "      <th>breed</th>\n",
       "    </tr>\n",
       "  </thead>\n",
       "  <tbody>\n",
       "    <tr>\n",
       "      <th>0</th>\n",
       "      <td>000bec180eb18c7604dcecc8fe0dba07</td>\n",
       "      <td>boston_bull</td>\n",
       "    </tr>\n",
       "    <tr>\n",
       "      <th>1</th>\n",
       "      <td>001513dfcb2ffafc82cccf4d8bbaba97</td>\n",
       "      <td>dingo</td>\n",
       "    </tr>\n",
       "    <tr>\n",
       "      <th>2</th>\n",
       "      <td>001cdf01b096e06d78e9e5112d419397</td>\n",
       "      <td>toy_dog</td>\n",
       "    </tr>\n",
       "    <tr>\n",
       "      <th>3</th>\n",
       "      <td>00214f311d5d2247d5dfe4fe24b2303d</td>\n",
       "      <td>bluetick</td>\n",
       "    </tr>\n",
       "    <tr>\n",
       "      <th>4</th>\n",
       "      <td>0021f9ceb3235effd7fcde7f7538ed62</td>\n",
       "      <td>golden_retriever</td>\n",
       "    </tr>\n",
       "  </tbody>\n",
       "</table>\n",
       "</div>"
      ],
      "text/plain": [
       "                                 id             breed\n",
       "0  000bec180eb18c7604dcecc8fe0dba07       boston_bull\n",
       "1  001513dfcb2ffafc82cccf4d8bbaba97             dingo\n",
       "2  001cdf01b096e06d78e9e5112d419397           toy_dog\n",
       "3  00214f311d5d2247d5dfe4fe24b2303d          bluetick\n",
       "4  0021f9ceb3235effd7fcde7f7538ed62  golden_retriever"
      ]
     },
     "execution_count": 21,
     "metadata": {},
     "output_type": "execute_result"
    }
   ],
   "source": [
    "new.head()"
   ]
  },
  {
   "cell_type": "code",
   "execution_count": 22,
   "metadata": {
    "collapsed": true
   },
   "outputs": [],
   "source": [
    "new.to_csv(\"new_labels_two_columns.csv\", encoding='utf-8',index=False)"
   ]
  },
  {
   "cell_type": "code",
   "execution_count": 23,
   "metadata": {},
   "outputs": [
    {
     "data": {
      "text/html": [
       "<div>\n",
       "<style>\n",
       "    .dataframe thead tr:only-child th {\n",
       "        text-align: right;\n",
       "    }\n",
       "\n",
       "    .dataframe thead th {\n",
       "        text-align: left;\n",
       "    }\n",
       "\n",
       "    .dataframe tbody tr th {\n",
       "        vertical-align: top;\n",
       "    }\n",
       "</style>\n",
       "<table border=\"1\" class=\"dataframe\">\n",
       "  <thead>\n",
       "    <tr style=\"text-align: right;\">\n",
       "      <th></th>\n",
       "      <th>id</th>\n",
       "      <th>breed</th>\n",
       "    </tr>\n",
       "  </thead>\n",
       "  <tbody>\n",
       "    <tr>\n",
       "      <th>0</th>\n",
       "      <td>000bec180eb18c7604dcecc8fe0dba07</td>\n",
       "      <td>boston_bull</td>\n",
       "    </tr>\n",
       "    <tr>\n",
       "      <th>1</th>\n",
       "      <td>001513dfcb2ffafc82cccf4d8bbaba97</td>\n",
       "      <td>dingo</td>\n",
       "    </tr>\n",
       "    <tr>\n",
       "      <th>2</th>\n",
       "      <td>001cdf01b096e06d78e9e5112d419397</td>\n",
       "      <td>toy_dog</td>\n",
       "    </tr>\n",
       "    <tr>\n",
       "      <th>3</th>\n",
       "      <td>00214f311d5d2247d5dfe4fe24b2303d</td>\n",
       "      <td>bluetick</td>\n",
       "    </tr>\n",
       "    <tr>\n",
       "      <th>4</th>\n",
       "      <td>0021f9ceb3235effd7fcde7f7538ed62</td>\n",
       "      <td>golden_retriever</td>\n",
       "    </tr>\n",
       "  </tbody>\n",
       "</table>\n",
       "</div>"
      ],
      "text/plain": [
       "                                 id             breed\n",
       "0  000bec180eb18c7604dcecc8fe0dba07       boston_bull\n",
       "1  001513dfcb2ffafc82cccf4d8bbaba97             dingo\n",
       "2  001cdf01b096e06d78e9e5112d419397           toy_dog\n",
       "3  00214f311d5d2247d5dfe4fe24b2303d          bluetick\n",
       "4  0021f9ceb3235effd7fcde7f7538ed62  golden_retriever"
      ]
     },
     "execution_count": 23,
     "metadata": {},
     "output_type": "execute_result"
    }
   ],
   "source": [
    "test=pd.read_csv(\"new_labels_two_columns.csv\")\n",
    "test.head()"
   ]
  },
  {
   "cell_type": "code",
   "execution_count": null,
   "metadata": {
    "collapsed": true
   },
   "outputs": [],
   "source": []
  }
 ],
 "metadata": {
  "kernelspec": {
   "display_name": "Python 3",
   "language": "python",
   "name": "python3"
  },
  "language_info": {
   "codemirror_mode": {
    "name": "ipython",
    "version": 3
   },
   "file_extension": ".py",
   "mimetype": "text/x-python",
   "name": "python",
   "nbconvert_exporter": "python",
   "pygments_lexer": "ipython3",
   "version": "3.6.1"
  }
 },
 "nbformat": 4,
 "nbformat_minor": 2
}
