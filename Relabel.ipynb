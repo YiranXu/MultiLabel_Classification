{
 "cells": [
  {
   "cell_type": "code",
   "execution_count": 1,
   "metadata": {
    "collapsed": true
   },
   "outputs": [],
   "source": [
    "import pandas as pd\n",
    "import numpy as np\n",
    "import math"
   ]
  },
  {
   "cell_type": "code",
   "execution_count": 2,
   "metadata": {},
   "outputs": [
    {
     "data": {
      "text/html": [
       "<div>\n",
       "<style>\n",
       "    .dataframe thead tr:only-child th {\n",
       "        text-align: right;\n",
       "    }\n",
       "\n",
       "    .dataframe thead th {\n",
       "        text-align: left;\n",
       "    }\n",
       "\n",
       "    .dataframe tbody tr th {\n",
       "        vertical-align: top;\n",
       "    }\n",
       "</style>\n",
       "<table border=\"1\" class=\"dataframe\">\n",
       "  <thead>\n",
       "    <tr style=\"text-align: right;\">\n",
       "      <th></th>\n",
       "      <th>id</th>\n",
       "      <th>breed</th>\n",
       "    </tr>\n",
       "  </thead>\n",
       "  <tbody>\n",
       "    <tr>\n",
       "      <th>0</th>\n",
       "      <td>000bec180eb18c7604dcecc8fe0dba07</td>\n",
       "      <td>boston_bull</td>\n",
       "    </tr>\n",
       "    <tr>\n",
       "      <th>1</th>\n",
       "      <td>001513dfcb2ffafc82cccf4d8bbaba97</td>\n",
       "      <td>dingo</td>\n",
       "    </tr>\n",
       "    <tr>\n",
       "      <th>2</th>\n",
       "      <td>001cdf01b096e06d78e9e5112d419397</td>\n",
       "      <td>pekinese</td>\n",
       "    </tr>\n",
       "    <tr>\n",
       "      <th>3</th>\n",
       "      <td>00214f311d5d2247d5dfe4fe24b2303d</td>\n",
       "      <td>bluetick</td>\n",
       "    </tr>\n",
       "    <tr>\n",
       "      <th>4</th>\n",
       "      <td>0021f9ceb3235effd7fcde7f7538ed62</td>\n",
       "      <td>golden_retriever</td>\n",
       "    </tr>\n",
       "  </tbody>\n",
       "</table>\n",
       "</div>"
      ],
      "text/plain": [
       "                                 id             breed\n",
       "0  000bec180eb18c7604dcecc8fe0dba07       boston_bull\n",
       "1  001513dfcb2ffafc82cccf4d8bbaba97             dingo\n",
       "2  001cdf01b096e06d78e9e5112d419397          pekinese\n",
       "3  00214f311d5d2247d5dfe4fe24b2303d          bluetick\n",
       "4  0021f9ceb3235effd7fcde7f7538ed62  golden_retriever"
      ]
     },
     "execution_count": 2,
     "metadata": {},
     "output_type": "execute_result"
    }
   ],
   "source": [
    "breed_set=pd.read_csv(\"labels.csv\")\n",
    "breed_set.head()"
   ]
  },
  {
   "cell_type": "code",
   "execution_count": 3,
   "metadata": {},
   "outputs": [
    {
     "data": {
      "text/html": [
       "<div>\n",
       "<style>\n",
       "    .dataframe thead tr:only-child th {\n",
       "        text-align: right;\n",
       "    }\n",
       "\n",
       "    .dataframe thead th {\n",
       "        text-align: left;\n",
       "    }\n",
       "\n",
       "    .dataframe tbody tr th {\n",
       "        vertical-align: top;\n",
       "    }\n",
       "</style>\n",
       "<table border=\"1\" class=\"dataframe\">\n",
       "  <thead>\n",
       "    <tr style=\"text-align: right;\">\n",
       "      <th></th>\n",
       "      <th>id</th>\n",
       "      <th>breed</th>\n",
       "      <th>label_new</th>\n",
       "    </tr>\n",
       "  </thead>\n",
       "  <tbody>\n",
       "    <tr>\n",
       "      <th>0</th>\n",
       "      <td>000bec180eb18c7604dcecc8fe0dba07</td>\n",
       "      <td>boston_bull</td>\n",
       "      <td>boston_bull</td>\n",
       "    </tr>\n",
       "    <tr>\n",
       "      <th>1</th>\n",
       "      <td>001513dfcb2ffafc82cccf4d8bbaba97</td>\n",
       "      <td>dingo</td>\n",
       "      <td>dingo</td>\n",
       "    </tr>\n",
       "    <tr>\n",
       "      <th>2</th>\n",
       "      <td>001cdf01b096e06d78e9e5112d419397</td>\n",
       "      <td>pekinese</td>\n",
       "      <td>pekinese</td>\n",
       "    </tr>\n",
       "    <tr>\n",
       "      <th>3</th>\n",
       "      <td>00214f311d5d2247d5dfe4fe24b2303d</td>\n",
       "      <td>bluetick</td>\n",
       "      <td>bluetick</td>\n",
       "    </tr>\n",
       "    <tr>\n",
       "      <th>4</th>\n",
       "      <td>0021f9ceb3235effd7fcde7f7538ed62</td>\n",
       "      <td>golden_retriever</td>\n",
       "      <td>golden_retriever</td>\n",
       "    </tr>\n",
       "  </tbody>\n",
       "</table>\n",
       "</div>"
      ],
      "text/plain": [
       "                                 id             breed         label_new\n",
       "0  000bec180eb18c7604dcecc8fe0dba07       boston_bull       boston_bull\n",
       "1  001513dfcb2ffafc82cccf4d8bbaba97             dingo             dingo\n",
       "2  001cdf01b096e06d78e9e5112d419397          pekinese          pekinese\n",
       "3  00214f311d5d2247d5dfe4fe24b2303d          bluetick          bluetick\n",
       "4  0021f9ceb3235effd7fcde7f7538ed62  golden_retriever  golden_retriever"
      ]
     },
     "execution_count": 3,
     "metadata": {},
     "output_type": "execute_result"
    }
   ],
   "source": [
    "breed_set['label_new'] = breed_set['breed']\n",
    "breed_set.head()"
   ]
  },
  {
   "cell_type": "code",
   "execution_count": 4,
   "metadata": {
    "collapsed": true
   },
   "outputs": [],
   "source": [
    "relabel_prop=0.5"
   ]
  },
  {
   "cell_type": "code",
   "execution_count": 5,
   "metadata": {},
   "outputs": [
    {
     "data": {
      "text/html": [
       "<div>\n",
       "<style>\n",
       "    .dataframe thead tr:only-child th {\n",
       "        text-align: right;\n",
       "    }\n",
       "\n",
       "    .dataframe thead th {\n",
       "        text-align: left;\n",
       "    }\n",
       "\n",
       "    .dataframe tbody tr th {\n",
       "        vertical-align: top;\n",
       "    }\n",
       "</style>\n",
       "<table border=\"1\" class=\"dataframe\">\n",
       "  <thead>\n",
       "    <tr style=\"text-align: right;\">\n",
       "      <th></th>\n",
       "      <th>L1</th>\n",
       "      <th>L2</th>\n",
       "      <th>L3</th>\n",
       "      <th>L4</th>\n",
       "      <th>L5</th>\n",
       "      <th>L6</th>\n",
       "    </tr>\n",
       "  </thead>\n",
       "  <tbody>\n",
       "    <tr>\n",
       "      <th>0</th>\n",
       "      <td>domestic_dog</td>\n",
       "      <td>hunting_dog</td>\n",
       "      <td>sporting_dog</td>\n",
       "      <td>pointer</td>\n",
       "      <td>vizsla</td>\n",
       "      <td>NaN</td>\n",
       "    </tr>\n",
       "    <tr>\n",
       "      <th>1</th>\n",
       "      <td>domestic_dog</td>\n",
       "      <td>hunting_dog</td>\n",
       "      <td>sporting_dog</td>\n",
       "      <td>pointer</td>\n",
       "      <td>german_short-haired_pointer</td>\n",
       "      <td>NaN</td>\n",
       "    </tr>\n",
       "    <tr>\n",
       "      <th>2</th>\n",
       "      <td>domestic_dog</td>\n",
       "      <td>hunting_dog</td>\n",
       "      <td>sporting_dog</td>\n",
       "      <td>setter</td>\n",
       "      <td>english_setter</td>\n",
       "      <td>NaN</td>\n",
       "    </tr>\n",
       "    <tr>\n",
       "      <th>3</th>\n",
       "      <td>domestic_dog</td>\n",
       "      <td>hunting_dog</td>\n",
       "      <td>sporting_dog</td>\n",
       "      <td>setter</td>\n",
       "      <td>gordon_setter</td>\n",
       "      <td>NaN</td>\n",
       "    </tr>\n",
       "    <tr>\n",
       "      <th>4</th>\n",
       "      <td>domestic_dog</td>\n",
       "      <td>hunting_dog</td>\n",
       "      <td>sporting_dog</td>\n",
       "      <td>setter</td>\n",
       "      <td>irish_setter</td>\n",
       "      <td>NaN</td>\n",
       "    </tr>\n",
       "  </tbody>\n",
       "</table>\n",
       "</div>"
      ],
      "text/plain": [
       "             L1           L2            L3       L4  \\\n",
       "0  domestic_dog  hunting_dog  sporting_dog  pointer   \n",
       "1  domestic_dog  hunting_dog  sporting_dog  pointer   \n",
       "2  domestic_dog  hunting_dog  sporting_dog   setter   \n",
       "3  domestic_dog  hunting_dog  sporting_dog   setter   \n",
       "4  domestic_dog  hunting_dog  sporting_dog   setter   \n",
       "\n",
       "                            L5   L6  \n",
       "0                       vizsla  NaN  \n",
       "1  german_short-haired_pointer  NaN  \n",
       "2               english_setter  NaN  \n",
       "3                gordon_setter  NaN  \n",
       "4                 irish_setter  NaN  "
      ]
     },
     "execution_count": 5,
     "metadata": {},
     "output_type": "execute_result"
    }
   ],
   "source": [
    "hier_set=pd.read_csv(\"MultiLabel_Classfication/DogHierarchy.csv\",usecols=['L1','L2','L3','L4','L5','L6'])\n",
    "hier_set.head()"
   ]
  },
  {
   "cell_type": "code",
   "execution_count": 6,
   "metadata": {},
   "outputs": [
    {
     "data": {
      "text/plain": [
       "array(['domestic_dog', 'wild_dog'], dtype=object)"
      ]
     },
     "execution_count": 6,
     "metadata": {},
     "output_type": "execute_result"
    }
   ],
   "source": [
    "L1_all=hier_set['L1'].unique()\n",
    "L2_all=hier_set['L2'].unique()\n",
    "L3_all=hier_set['L3'].unique()\n",
    "L4_all=hier_set['L4'].unique()\n",
    "L5_all=hier_set['L5'].unique()\n",
    "L6_all=hier_set['L6'].unique()\n",
    "L1_all"
   ]
  },
  {
   "cell_type": "code",
   "execution_count": 7,
   "metadata": {},
   "outputs": [],
   "source": [
    "breed=breed_set['breed']"
   ]
  },
  {
   "cell_type": "code",
   "execution_count": 10,
   "metadata": {
    "collapsed": true
   },
   "outputs": [],
   "source": [
    "def change_label(level,prev_level):\n",
    "    level=level.strip('\"\\'')\n",
    "    print(level)\n",
    "    breed_level=breed_set.iloc[np.where(breed.isin(level))]\n",
    "    print(level)\n",
    "    breed_level=breed_level.merge(hier_set, left_on=\"breed\", right_on=level_name)\n",
    "    tochange=np.random.choice(breed_level.shape[0],math.ceil(breed_level.shape[0]/2),replace=False)\n",
    "    breed_all_index=set(np.arange(breed_level.shape[0]))\n",
    "    unchange=list(breed_all_index-set(tochange))\n",
    "    breed_tochange=breed_level.loc[tochange]\n",
    "    breed_tochange['label_new']=breed_tochange[str(prev_level)]\n",
    "    breed_unchange=breed_level.loc[unchange]\n",
    "    new=pd.concat([breed_unchange,breed_tochange])\n",
    "    return new"
   ]
  },
  {
   "cell_type": "markdown",
   "metadata": {},
   "source": [
    "## L6 "
   ]
  },
  {
   "cell_type": "code",
   "execution_count": 9,
   "metadata": {},
   "outputs": [
    {
     "data": {
      "text/html": [
       "<div>\n",
       "<style>\n",
       "    .dataframe thead tr:only-child th {\n",
       "        text-align: right;\n",
       "    }\n",
       "\n",
       "    .dataframe thead th {\n",
       "        text-align: left;\n",
       "    }\n",
       "\n",
       "    .dataframe tbody tr th {\n",
       "        vertical-align: top;\n",
       "    }\n",
       "</style>\n",
       "<table border=\"1\" class=\"dataframe\">\n",
       "  <thead>\n",
       "    <tr style=\"text-align: right;\">\n",
       "      <th></th>\n",
       "      <th>id</th>\n",
       "      <th>breed</th>\n",
       "      <th>label_new</th>\n",
       "      <th>L1</th>\n",
       "      <th>L2</th>\n",
       "      <th>L3</th>\n",
       "      <th>L4</th>\n",
       "      <th>L5</th>\n",
       "      <th>L6</th>\n",
       "    </tr>\n",
       "  </thead>\n",
       "  <tbody>\n",
       "    <tr>\n",
       "      <th>0</th>\n",
       "      <td>01f8540fb1084107a6eb3e528f82c1aa</td>\n",
       "      <td>welsh_springer_spaniel</td>\n",
       "      <td>welsh_springer_spaniel</td>\n",
       "      <td>domestic_dog</td>\n",
       "      <td>hunting_dog</td>\n",
       "      <td>sporting_dog</td>\n",
       "      <td>spaniel</td>\n",
       "      <td>springer_spaniel</td>\n",
       "      <td>welsh_springer_spaniel</td>\n",
       "    </tr>\n",
       "    <tr>\n",
       "      <th>1</th>\n",
       "      <td>02ef5f19db8cf4da62016a1067bdc548</td>\n",
       "      <td>welsh_springer_spaniel</td>\n",
       "      <td>welsh_springer_spaniel</td>\n",
       "      <td>domestic_dog</td>\n",
       "      <td>hunting_dog</td>\n",
       "      <td>sporting_dog</td>\n",
       "      <td>spaniel</td>\n",
       "      <td>springer_spaniel</td>\n",
       "      <td>welsh_springer_spaniel</td>\n",
       "    </tr>\n",
       "    <tr>\n",
       "      <th>2</th>\n",
       "      <td>0490b67cb414d527d6c21052b1e3b5dd</td>\n",
       "      <td>welsh_springer_spaniel</td>\n",
       "      <td>welsh_springer_spaniel</td>\n",
       "      <td>domestic_dog</td>\n",
       "      <td>hunting_dog</td>\n",
       "      <td>sporting_dog</td>\n",
       "      <td>spaniel</td>\n",
       "      <td>springer_spaniel</td>\n",
       "      <td>welsh_springer_spaniel</td>\n",
       "    </tr>\n",
       "    <tr>\n",
       "      <th>3</th>\n",
       "      <td>04d6fe2d5ad29be79083e5c9cf3d9b0d</td>\n",
       "      <td>welsh_springer_spaniel</td>\n",
       "      <td>welsh_springer_spaniel</td>\n",
       "      <td>domestic_dog</td>\n",
       "      <td>hunting_dog</td>\n",
       "      <td>sporting_dog</td>\n",
       "      <td>spaniel</td>\n",
       "      <td>springer_spaniel</td>\n",
       "      <td>welsh_springer_spaniel</td>\n",
       "    </tr>\n",
       "    <tr>\n",
       "      <th>4</th>\n",
       "      <td>0672befac9ea0c8fe82c37b5a634d87c</td>\n",
       "      <td>welsh_springer_spaniel</td>\n",
       "      <td>welsh_springer_spaniel</td>\n",
       "      <td>domestic_dog</td>\n",
       "      <td>hunting_dog</td>\n",
       "      <td>sporting_dog</td>\n",
       "      <td>spaniel</td>\n",
       "      <td>springer_spaniel</td>\n",
       "      <td>welsh_springer_spaniel</td>\n",
       "    </tr>\n",
       "  </tbody>\n",
       "</table>\n",
       "</div>"
      ],
      "text/plain": [
       "                                 id                   breed  \\\n",
       "0  01f8540fb1084107a6eb3e528f82c1aa  welsh_springer_spaniel   \n",
       "1  02ef5f19db8cf4da62016a1067bdc548  welsh_springer_spaniel   \n",
       "2  0490b67cb414d527d6c21052b1e3b5dd  welsh_springer_spaniel   \n",
       "3  04d6fe2d5ad29be79083e5c9cf3d9b0d  welsh_springer_spaniel   \n",
       "4  0672befac9ea0c8fe82c37b5a634d87c  welsh_springer_spaniel   \n",
       "\n",
       "                label_new            L1           L2            L3       L4  \\\n",
       "0  welsh_springer_spaniel  domestic_dog  hunting_dog  sporting_dog  spaniel   \n",
       "1  welsh_springer_spaniel  domestic_dog  hunting_dog  sporting_dog  spaniel   \n",
       "2  welsh_springer_spaniel  domestic_dog  hunting_dog  sporting_dog  spaniel   \n",
       "3  welsh_springer_spaniel  domestic_dog  hunting_dog  sporting_dog  spaniel   \n",
       "4  welsh_springer_spaniel  domestic_dog  hunting_dog  sporting_dog  spaniel   \n",
       "\n",
       "                 L5                      L6  \n",
       "0  springer_spaniel  welsh_springer_spaniel  \n",
       "1  springer_spaniel  welsh_springer_spaniel  \n",
       "2  springer_spaniel  welsh_springer_spaniel  \n",
       "3  springer_spaniel  welsh_springer_spaniel  \n",
       "4  springer_spaniel  welsh_springer_spaniel  "
      ]
     },
     "execution_count": 9,
     "metadata": {},
     "output_type": "execute_result"
    }
   ],
   "source": [
    "L6_breed=breed_set.iloc[np.where(breed.isin(L6_all))]\n",
    "L6_breed=L6_breed.merge(hier_set, left_on=\"breed\", right_on=\"L6\")\n",
    "L6_breed.head()"
   ]
  },
  {
   "cell_type": "code",
   "execution_count": 10,
   "metadata": {
    "collapsed": true
   },
   "outputs": [],
   "source": [
    "tochange=np.random.choice(L6_breed.shape[0],math.ceil(L6_breed.shape[0]/2),replace=False)"
   ]
  },
  {
   "cell_type": "code",
   "execution_count": 11,
   "metadata": {},
   "outputs": [],
   "source": [
    "L6_breed_all_index=set(np.arange(L6_breed.shape[0]))\n"
   ]
  },
  {
   "cell_type": "code",
   "execution_count": 12,
   "metadata": {},
   "outputs": [
    {
     "data": {
      "text/plain": [
       "array([  2,   6,   7,   8,   9,  12,  13,  14,  15,  17,  18,  21,  22,\n",
       "        23,  24,  28,  29,  30,  33,  34,  35,  36,  39,  40,  41,  49,\n",
       "        50,  51,  54,  55,  58,  59,  60,  63,  64,  66,  68,  69,  74,\n",
       "        78,  83,  86,  89,  91,  92,  98,  99, 100, 101, 102, 103, 104,\n",
       "       106, 107, 108, 110, 111, 113, 115, 117, 118, 119, 120, 122, 123,\n",
       "       127, 128, 129, 131, 132, 135, 137, 138, 139, 140, 141, 146])"
      ]
     },
     "execution_count": 12,
     "metadata": {},
     "output_type": "execute_result"
    }
   ],
   "source": [
    "tochange.sort()\n",
    "tochange"
   ]
  },
  {
   "cell_type": "code",
   "execution_count": 13,
   "metadata": {},
   "outputs": [
    {
     "data": {
      "text/plain": [
       "77"
      ]
     },
     "execution_count": 13,
     "metadata": {},
     "output_type": "execute_result"
    }
   ],
   "source": [
    "len(tochange)"
   ]
  },
  {
   "cell_type": "code",
   "execution_count": 14,
   "metadata": {
    "collapsed": true
   },
   "outputs": [],
   "source": [
    "unchange=list(L6_breed_all_index-set(tochange))"
   ]
  },
  {
   "cell_type": "code",
   "execution_count": 15,
   "metadata": {},
   "outputs": [
    {
     "data": {
      "text/plain": [
       "(77, 9)"
      ]
     },
     "execution_count": 15,
     "metadata": {},
     "output_type": "execute_result"
    }
   ],
   "source": [
    "L6_breed_tochange=L6_breed.loc[tochange]\n",
    "L6_breed_tochange['label_new']=L6_breed_tochange['L5']\n",
    "L6_breed_tochange.shape"
   ]
  },
  {
   "cell_type": "code",
   "execution_count": 16,
   "metadata": {},
   "outputs": [
    {
     "data": {
      "text/plain": [
       "(77, 9)"
      ]
     },
     "execution_count": 16,
     "metadata": {},
     "output_type": "execute_result"
    }
   ],
   "source": [
    "L6_breed_unchange=L6_breed.loc[unchange]\n",
    "L6_breed_unchange.shape"
   ]
  },
  {
   "cell_type": "code",
   "execution_count": 19,
   "metadata": {
    "collapsed": true
   },
   "outputs": [],
   "source": [
    "L6_new=pd.concat([L6_breed_unchange,L6_breed_tochange])"
   ]
  },
  {
   "cell_type": "markdown",
   "metadata": {
    "collapsed": true
   },
   "source": [
    "# L5"
   ]
  },
  {
   "cell_type": "code",
   "execution_count": 20,
   "metadata": {},
   "outputs": [
    {
     "data": {
      "text/html": [
       "<div>\n",
       "<style>\n",
       "    .dataframe thead tr:only-child th {\n",
       "        text-align: right;\n",
       "    }\n",
       "\n",
       "    .dataframe thead th {\n",
       "        text-align: left;\n",
       "    }\n",
       "\n",
       "    .dataframe tbody tr th {\n",
       "        vertical-align: top;\n",
       "    }\n",
       "</style>\n",
       "<table border=\"1\" class=\"dataframe\">\n",
       "  <thead>\n",
       "    <tr style=\"text-align: right;\">\n",
       "      <th></th>\n",
       "      <th>id</th>\n",
       "      <th>breed</th>\n",
       "      <th>label_new</th>\n",
       "      <th>L1</th>\n",
       "      <th>L2</th>\n",
       "      <th>L3</th>\n",
       "      <th>L4</th>\n",
       "      <th>L5</th>\n",
       "      <th>L6</th>\n",
       "    </tr>\n",
       "  </thead>\n",
       "  <tbody>\n",
       "    <tr>\n",
       "      <th>0</th>\n",
       "      <td>0021f9ceb3235effd7fcde7f7538ed62</td>\n",
       "      <td>golden_retriever</td>\n",
       "      <td>golden_retriever</td>\n",
       "      <td>domestic_dog</td>\n",
       "      <td>hunting_dog</td>\n",
       "      <td>sporting_dog</td>\n",
       "      <td>retriever</td>\n",
       "      <td>golden_retriever</td>\n",
       "      <td>NaN</td>\n",
       "    </tr>\n",
       "    <tr>\n",
       "      <th>1</th>\n",
       "      <td>00a366d4b4a9bbb6c8a63126697b7656</td>\n",
       "      <td>golden_retriever</td>\n",
       "      <td>golden_retriever</td>\n",
       "      <td>domestic_dog</td>\n",
       "      <td>hunting_dog</td>\n",
       "      <td>sporting_dog</td>\n",
       "      <td>retriever</td>\n",
       "      <td>golden_retriever</td>\n",
       "      <td>NaN</td>\n",
       "    </tr>\n",
       "    <tr>\n",
       "      <th>2</th>\n",
       "      <td>0100f55e4f0fe28f2c0465d3fc4b9897</td>\n",
       "      <td>golden_retriever</td>\n",
       "      <td>golden_retriever</td>\n",
       "      <td>domestic_dog</td>\n",
       "      <td>hunting_dog</td>\n",
       "      <td>sporting_dog</td>\n",
       "      <td>retriever</td>\n",
       "      <td>golden_retriever</td>\n",
       "      <td>NaN</td>\n",
       "    </tr>\n",
       "    <tr>\n",
       "      <th>3</th>\n",
       "      <td>02ff77af410e966b7b661f6f0789d947</td>\n",
       "      <td>golden_retriever</td>\n",
       "      <td>golden_retriever</td>\n",
       "      <td>domestic_dog</td>\n",
       "      <td>hunting_dog</td>\n",
       "      <td>sporting_dog</td>\n",
       "      <td>retriever</td>\n",
       "      <td>golden_retriever</td>\n",
       "      <td>NaN</td>\n",
       "    </tr>\n",
       "    <tr>\n",
       "      <th>4</th>\n",
       "      <td>0825e8471e3c9a14dc341bdd8630f05e</td>\n",
       "      <td>golden_retriever</td>\n",
       "      <td>golden_retriever</td>\n",
       "      <td>domestic_dog</td>\n",
       "      <td>hunting_dog</td>\n",
       "      <td>sporting_dog</td>\n",
       "      <td>retriever</td>\n",
       "      <td>golden_retriever</td>\n",
       "      <td>NaN</td>\n",
       "    </tr>\n",
       "  </tbody>\n",
       "</table>\n",
       "</div>"
      ],
      "text/plain": [
       "                                 id             breed         label_new  \\\n",
       "0  0021f9ceb3235effd7fcde7f7538ed62  golden_retriever  golden_retriever   \n",
       "1  00a366d4b4a9bbb6c8a63126697b7656  golden_retriever  golden_retriever   \n",
       "2  0100f55e4f0fe28f2c0465d3fc4b9897  golden_retriever  golden_retriever   \n",
       "3  02ff77af410e966b7b661f6f0789d947  golden_retriever  golden_retriever   \n",
       "4  0825e8471e3c9a14dc341bdd8630f05e  golden_retriever  golden_retriever   \n",
       "\n",
       "             L1           L2            L3         L4                L5   L6  \n",
       "0  domestic_dog  hunting_dog  sporting_dog  retriever  golden_retriever  NaN  \n",
       "1  domestic_dog  hunting_dog  sporting_dog  retriever  golden_retriever  NaN  \n",
       "2  domestic_dog  hunting_dog  sporting_dog  retriever  golden_retriever  NaN  \n",
       "3  domestic_dog  hunting_dog  sporting_dog  retriever  golden_retriever  NaN  \n",
       "4  domestic_dog  hunting_dog  sporting_dog  retriever  golden_retriever  NaN  "
      ]
     },
     "execution_count": 20,
     "metadata": {},
     "output_type": "execute_result"
    }
   ],
   "source": [
    "L5_breed=breed_set.iloc[np.where(breed.isin(L5_all))]\n",
    "L5_breed=L5_breed.merge(hier_set, left_on=\"breed\", right_on=\"L5\")\n",
    "L5_breed.head()"
   ]
  },
  {
   "cell_type": "code",
   "execution_count": 21,
   "metadata": {},
   "outputs": [
    {
     "data": {
      "text/plain": [
       "(1374, 9)"
      ]
     },
     "execution_count": 21,
     "metadata": {},
     "output_type": "execute_result"
    }
   ],
   "source": [
    "tochange=np.random.choice(L5_breed.shape[0],math.ceil(L5_breed.shape[0]/2),replace=False)\n",
    "L5_breed_all_index=set(np.arange(L5_breed.shape[0]))\n",
    "unchange=list(L5_breed_all_index-set(tochange))\n",
    "L5_breed_tochange=L5_breed.loc[tochange]\n",
    "L5_breed_tochange['label_new']=L5_breed_tochange['L4']\n",
    "L5_breed_tochange.shape"
   ]
  },
  {
   "cell_type": "code",
   "execution_count": 23,
   "metadata": {},
   "outputs": [
    {
     "data": {
      "text/plain": [
       "(1374, 9)"
      ]
     },
     "execution_count": 23,
     "metadata": {},
     "output_type": "execute_result"
    }
   ],
   "source": [
    "L5_breed_unchange=L5_breed.loc[unchange]\n",
    "L5_breed_unchange.shape"
   ]
  },
  {
   "cell_type": "code",
   "execution_count": 24,
   "metadata": {
    "collapsed": true
   },
   "outputs": [],
   "source": [
    "L5_new=pd.concat([L5_breed_unchange,L5_breed_tochange])"
   ]
  },
  {
   "cell_type": "markdown",
   "metadata": {},
   "source": [
    "# L4"
   ]
  },
  {
   "cell_type": "code",
   "execution_count": 25,
   "metadata": {},
   "outputs": [
    {
     "data": {
      "text/html": [
       "<div>\n",
       "<style>\n",
       "    .dataframe thead tr:only-child th {\n",
       "        text-align: right;\n",
       "    }\n",
       "\n",
       "    .dataframe thead th {\n",
       "        text-align: left;\n",
       "    }\n",
       "\n",
       "    .dataframe tbody tr th {\n",
       "        vertical-align: top;\n",
       "    }\n",
       "</style>\n",
       "<table border=\"1\" class=\"dataframe\">\n",
       "  <thead>\n",
       "    <tr style=\"text-align: right;\">\n",
       "      <th></th>\n",
       "      <th>id</th>\n",
       "      <th>breed</th>\n",
       "      <th>label_new</th>\n",
       "      <th>L1</th>\n",
       "      <th>L2</th>\n",
       "      <th>L3</th>\n",
       "      <th>L4</th>\n",
       "      <th>L5</th>\n",
       "      <th>L6</th>\n",
       "    </tr>\n",
       "  </thead>\n",
       "  <tbody>\n",
       "    <tr>\n",
       "      <th>0</th>\n",
       "      <td>000bec180eb18c7604dcecc8fe0dba07</td>\n",
       "      <td>boston_bull</td>\n",
       "      <td>boston_bull</td>\n",
       "      <td>domestic_dog</td>\n",
       "      <td>hunting_dog</td>\n",
       "      <td>terrier</td>\n",
       "      <td>boston_bull</td>\n",
       "      <td>NaN</td>\n",
       "      <td>NaN</td>\n",
       "    </tr>\n",
       "    <tr>\n",
       "      <th>1</th>\n",
       "      <td>010d65bd29d246aea53d9849da142ccf</td>\n",
       "      <td>boston_bull</td>\n",
       "      <td>boston_bull</td>\n",
       "      <td>domestic_dog</td>\n",
       "      <td>hunting_dog</td>\n",
       "      <td>terrier</td>\n",
       "      <td>boston_bull</td>\n",
       "      <td>NaN</td>\n",
       "      <td>NaN</td>\n",
       "    </tr>\n",
       "    <tr>\n",
       "      <th>2</th>\n",
       "      <td>0755a940eac9a9b8cf0328b4be062096</td>\n",
       "      <td>boston_bull</td>\n",
       "      <td>boston_bull</td>\n",
       "      <td>domestic_dog</td>\n",
       "      <td>hunting_dog</td>\n",
       "      <td>terrier</td>\n",
       "      <td>boston_bull</td>\n",
       "      <td>NaN</td>\n",
       "      <td>NaN</td>\n",
       "    </tr>\n",
       "    <tr>\n",
       "      <th>3</th>\n",
       "      <td>07d7cfbdbd3682cae50902b53c798028</td>\n",
       "      <td>boston_bull</td>\n",
       "      <td>boston_bull</td>\n",
       "      <td>domestic_dog</td>\n",
       "      <td>hunting_dog</td>\n",
       "      <td>terrier</td>\n",
       "      <td>boston_bull</td>\n",
       "      <td>NaN</td>\n",
       "      <td>NaN</td>\n",
       "    </tr>\n",
       "    <tr>\n",
       "      <th>4</th>\n",
       "      <td>0b3d3120a62c2bc280f589d473041d06</td>\n",
       "      <td>boston_bull</td>\n",
       "      <td>boston_bull</td>\n",
       "      <td>domestic_dog</td>\n",
       "      <td>hunting_dog</td>\n",
       "      <td>terrier</td>\n",
       "      <td>boston_bull</td>\n",
       "      <td>NaN</td>\n",
       "      <td>NaN</td>\n",
       "    </tr>\n",
       "  </tbody>\n",
       "</table>\n",
       "</div>"
      ],
      "text/plain": [
       "                                 id        breed    label_new            L1  \\\n",
       "0  000bec180eb18c7604dcecc8fe0dba07  boston_bull  boston_bull  domestic_dog   \n",
       "1  010d65bd29d246aea53d9849da142ccf  boston_bull  boston_bull  domestic_dog   \n",
       "2  0755a940eac9a9b8cf0328b4be062096  boston_bull  boston_bull  domestic_dog   \n",
       "3  07d7cfbdbd3682cae50902b53c798028  boston_bull  boston_bull  domestic_dog   \n",
       "4  0b3d3120a62c2bc280f589d473041d06  boston_bull  boston_bull  domestic_dog   \n",
       "\n",
       "            L2       L3           L4   L5   L6  \n",
       "0  hunting_dog  terrier  boston_bull  NaN  NaN  \n",
       "1  hunting_dog  terrier  boston_bull  NaN  NaN  \n",
       "2  hunting_dog  terrier  boston_bull  NaN  NaN  \n",
       "3  hunting_dog  terrier  boston_bull  NaN  NaN  \n",
       "4  hunting_dog  terrier  boston_bull  NaN  NaN  "
      ]
     },
     "execution_count": 25,
     "metadata": {},
     "output_type": "execute_result"
    }
   ],
   "source": [
    "L4_breed=breed_set.iloc[np.where(breed.isin(L4_all))]\n",
    "L4_breed=L4_breed.merge(hier_set, left_on=\"breed\", right_on=\"L4\")\n",
    "L4_breed.head()"
   ]
  },
  {
   "cell_type": "code",
   "execution_count": 26,
   "metadata": {},
   "outputs": [
    {
     "data": {
      "text/plain": [
       "(4458, 9)"
      ]
     },
     "execution_count": 26,
     "metadata": {},
     "output_type": "execute_result"
    }
   ],
   "source": [
    "L4_breed.shape\n"
   ]
  },
  {
   "cell_type": "code",
   "execution_count": 27,
   "metadata": {},
   "outputs": [
    {
     "data": {
      "text/plain": [
       "(2229, 9)"
      ]
     },
     "execution_count": 27,
     "metadata": {},
     "output_type": "execute_result"
    }
   ],
   "source": [
    "tochange=np.random.choice(L4_breed.shape[0],math.ceil(L4_breed.shape[0]/2),replace=False)\n",
    "L4_breed_all_index=set(np.arange(L4_breed.shape[0]))\n",
    "unchange=list(L4_breed_all_index-set(tochange))\n",
    "L4_breed_tochange=L4_breed.loc[tochange]\n",
    "L4_breed_tochange['label_new']=L4_breed_tochange['L3']\n",
    "L4_breed_tochange.shape"
   ]
  },
  {
   "cell_type": "code",
   "execution_count": 28,
   "metadata": {},
   "outputs": [
    {
     "data": {
      "text/plain": [
       "(2229, 9)"
      ]
     },
     "execution_count": 28,
     "metadata": {},
     "output_type": "execute_result"
    }
   ],
   "source": [
    "L4_breed_unchange=L4_breed.loc[unchange]\n",
    "L4_breed_unchange.shape"
   ]
  },
  {
   "cell_type": "code",
   "execution_count": 29,
   "metadata": {},
   "outputs": [
    {
     "data": {
      "text/plain": [
       "(4458, 9)"
      ]
     },
     "execution_count": 29,
     "metadata": {},
     "output_type": "execute_result"
    }
   ],
   "source": [
    "L4_new=pd.concat([L4_breed_unchange,L4_breed_tochange])\n",
    "L4_new.shape"
   ]
  },
  {
   "cell_type": "code",
   "execution_count": 35,
   "metadata": {},
   "outputs": [
    {
     "data": {
      "text/plain": [
       "7360"
      ]
     },
     "execution_count": 35,
     "metadata": {},
     "output_type": "execute_result"
    }
   ],
   "source": [
    "L5_new.shape[0]+L6_new.shape[0]+L4_new.shape[0]"
   ]
  },
  {
   "cell_type": "markdown",
   "metadata": {},
   "source": [
    "# L3"
   ]
  },
  {
   "cell_type": "code",
   "execution_count": 36,
   "metadata": {},
   "outputs": [
    {
     "data": {
      "text/html": [
       "<div>\n",
       "<style>\n",
       "    .dataframe thead tr:only-child th {\n",
       "        text-align: right;\n",
       "    }\n",
       "\n",
       "    .dataframe thead th {\n",
       "        text-align: left;\n",
       "    }\n",
       "\n",
       "    .dataframe tbody tr th {\n",
       "        vertical-align: top;\n",
       "    }\n",
       "</style>\n",
       "<table border=\"1\" class=\"dataframe\">\n",
       "  <thead>\n",
       "    <tr style=\"text-align: right;\">\n",
       "      <th></th>\n",
       "      <th>id</th>\n",
       "      <th>breed</th>\n",
       "      <th>label_new</th>\n",
       "      <th>L1</th>\n",
       "      <th>L2</th>\n",
       "      <th>L3</th>\n",
       "      <th>L4</th>\n",
       "      <th>L5</th>\n",
       "      <th>L6</th>\n",
       "    </tr>\n",
       "  </thead>\n",
       "  <tbody>\n",
       "    <tr>\n",
       "      <th>0</th>\n",
       "      <td>001cdf01b096e06d78e9e5112d419397</td>\n",
       "      <td>pekinese</td>\n",
       "      <td>pekinese</td>\n",
       "      <td>domestic_dog</td>\n",
       "      <td>toy_dog</td>\n",
       "      <td>pekinese</td>\n",
       "      <td>NaN</td>\n",
       "      <td>NaN</td>\n",
       "      <td>NaN</td>\n",
       "    </tr>\n",
       "    <tr>\n",
       "      <th>1</th>\n",
       "      <td>0314048edbd08c8c50eb3c93281bd043</td>\n",
       "      <td>pekinese</td>\n",
       "      <td>pekinese</td>\n",
       "      <td>domestic_dog</td>\n",
       "      <td>toy_dog</td>\n",
       "      <td>pekinese</td>\n",
       "      <td>NaN</td>\n",
       "      <td>NaN</td>\n",
       "      <td>NaN</td>\n",
       "    </tr>\n",
       "    <tr>\n",
       "      <th>2</th>\n",
       "      <td>0685bcc6cdaa954771379d95d339baf6</td>\n",
       "      <td>pekinese</td>\n",
       "      <td>pekinese</td>\n",
       "      <td>domestic_dog</td>\n",
       "      <td>toy_dog</td>\n",
       "      <td>pekinese</td>\n",
       "      <td>NaN</td>\n",
       "      <td>NaN</td>\n",
       "      <td>NaN</td>\n",
       "    </tr>\n",
       "    <tr>\n",
       "      <th>3</th>\n",
       "      <td>084f941981c326f26ea77158fb449c57</td>\n",
       "      <td>pekinese</td>\n",
       "      <td>pekinese</td>\n",
       "      <td>domestic_dog</td>\n",
       "      <td>toy_dog</td>\n",
       "      <td>pekinese</td>\n",
       "      <td>NaN</td>\n",
       "      <td>NaN</td>\n",
       "      <td>NaN</td>\n",
       "    </tr>\n",
       "    <tr>\n",
       "      <th>4</th>\n",
       "      <td>0d2dc4f72cc5d6d26055989b217a2450</td>\n",
       "      <td>pekinese</td>\n",
       "      <td>pekinese</td>\n",
       "      <td>domestic_dog</td>\n",
       "      <td>toy_dog</td>\n",
       "      <td>pekinese</td>\n",
       "      <td>NaN</td>\n",
       "      <td>NaN</td>\n",
       "      <td>NaN</td>\n",
       "    </tr>\n",
       "  </tbody>\n",
       "</table>\n",
       "</div>"
      ],
      "text/plain": [
       "                                 id     breed label_new            L1  \\\n",
       "0  001cdf01b096e06d78e9e5112d419397  pekinese  pekinese  domestic_dog   \n",
       "1  0314048edbd08c8c50eb3c93281bd043  pekinese  pekinese  domestic_dog   \n",
       "2  0685bcc6cdaa954771379d95d339baf6  pekinese  pekinese  domestic_dog   \n",
       "3  084f941981c326f26ea77158fb449c57  pekinese  pekinese  domestic_dog   \n",
       "4  0d2dc4f72cc5d6d26055989b217a2450  pekinese  pekinese  domestic_dog   \n",
       "\n",
       "        L2        L3   L4   L5   L6  \n",
       "0  toy_dog  pekinese  NaN  NaN  NaN  \n",
       "1  toy_dog  pekinese  NaN  NaN  NaN  \n",
       "2  toy_dog  pekinese  NaN  NaN  NaN  \n",
       "3  toy_dog  pekinese  NaN  NaN  NaN  \n",
       "4  toy_dog  pekinese  NaN  NaN  NaN  "
      ]
     },
     "execution_count": 36,
     "metadata": {},
     "output_type": "execute_result"
    }
   ],
   "source": [
    "L3_breed=breed_set.iloc[np.where(breed.isin(L3_all))]\n",
    "L3_breed=L3_breed.merge(hier_set, left_on=\"breed\", right_on=\"L3\")\n",
    "L3_breed.head()"
   ]
  },
  {
   "cell_type": "code",
   "execution_count": 37,
   "metadata": {},
   "outputs": [
    {
     "data": {
      "text/plain": [
       "(1961, 9)"
      ]
     },
     "execution_count": 37,
     "metadata": {},
     "output_type": "execute_result"
    }
   ],
   "source": [
    "L3_breed.shape"
   ]
  },
  {
   "cell_type": "code",
   "execution_count": 38,
   "metadata": {},
   "outputs": [
    {
     "data": {
      "text/plain": [
       "(981, 9)"
      ]
     },
     "execution_count": 38,
     "metadata": {},
     "output_type": "execute_result"
    }
   ],
   "source": [
    "tochange=np.random.choice(L3_breed.shape[0],math.ceil(L3_breed.shape[0]/2),replace=False)\n",
    "L3_breed_all_index=set(np.arange(L3_breed.shape[0]))\n",
    "unchange=list(L3_breed_all_index-set(tochange))\n",
    "L3_breed_tochange=L3_breed.loc[tochange]\n",
    "L3_breed_tochange['label_new']=L3_breed_tochange['L2']\n",
    "L3_breed_tochange.shape"
   ]
  },
  {
   "cell_type": "code",
   "execution_count": 40,
   "metadata": {},
   "outputs": [
    {
     "data": {
      "text/plain": [
       "(980, 9)"
      ]
     },
     "execution_count": 40,
     "metadata": {},
     "output_type": "execute_result"
    }
   ],
   "source": [
    "L3_breed_unchange=L3_breed.loc[unchange]\n",
    "L3_breed_unchange.shape"
   ]
  },
  {
   "cell_type": "code",
   "execution_count": 41,
   "metadata": {},
   "outputs": [
    {
     "data": {
      "text/plain": [
       "(1961, 9)"
      ]
     },
     "execution_count": 41,
     "metadata": {},
     "output_type": "execute_result"
    }
   ],
   "source": [
    "L3_new=pd.concat([L3_breed_unchange,L3_breed_tochange])\n",
    "L3_new.shape"
   ]
  },
  {
   "cell_type": "markdown",
   "metadata": {},
   "source": [
    "# L2"
   ]
  },
  {
   "cell_type": "code",
   "execution_count": 42,
   "metadata": {},
   "outputs": [
    {
     "data": {
      "text/html": [
       "<div>\n",
       "<style>\n",
       "    .dataframe thead tr:only-child th {\n",
       "        text-align: right;\n",
       "    }\n",
       "\n",
       "    .dataframe thead th {\n",
       "        text-align: left;\n",
       "    }\n",
       "\n",
       "    .dataframe tbody tr th {\n",
       "        vertical-align: top;\n",
       "    }\n",
       "</style>\n",
       "<table border=\"1\" class=\"dataframe\">\n",
       "  <thead>\n",
       "    <tr style=\"text-align: right;\">\n",
       "      <th></th>\n",
       "      <th>id</th>\n",
       "      <th>breed</th>\n",
       "      <th>label_new</th>\n",
       "      <th>L1</th>\n",
       "      <th>L2</th>\n",
       "      <th>L3</th>\n",
       "      <th>L4</th>\n",
       "      <th>L5</th>\n",
       "      <th>L6</th>\n",
       "    </tr>\n",
       "  </thead>\n",
       "  <tbody>\n",
       "    <tr>\n",
       "      <th>0</th>\n",
       "      <td>001513dfcb2ffafc82cccf4d8bbaba97</td>\n",
       "      <td>dingo</td>\n",
       "      <td>dingo</td>\n",
       "      <td>wild_dog</td>\n",
       "      <td>dingo</td>\n",
       "      <td>NaN</td>\n",
       "      <td>NaN</td>\n",
       "      <td>NaN</td>\n",
       "      <td>NaN</td>\n",
       "    </tr>\n",
       "    <tr>\n",
       "      <th>1</th>\n",
       "      <td>00a338a92e4e7bf543340dc849230e75</td>\n",
       "      <td>dingo</td>\n",
       "      <td>dingo</td>\n",
       "      <td>wild_dog</td>\n",
       "      <td>dingo</td>\n",
       "      <td>NaN</td>\n",
       "      <td>NaN</td>\n",
       "      <td>NaN</td>\n",
       "      <td>NaN</td>\n",
       "    </tr>\n",
       "    <tr>\n",
       "      <th>2</th>\n",
       "      <td>0120343862761d052d6a7ade81625c94</td>\n",
       "      <td>dingo</td>\n",
       "      <td>dingo</td>\n",
       "      <td>wild_dog</td>\n",
       "      <td>dingo</td>\n",
       "      <td>NaN</td>\n",
       "      <td>NaN</td>\n",
       "      <td>NaN</td>\n",
       "      <td>NaN</td>\n",
       "    </tr>\n",
       "    <tr>\n",
       "      <th>3</th>\n",
       "      <td>02b1c50fb7315423a664f3ce68c94e30</td>\n",
       "      <td>dingo</td>\n",
       "      <td>dingo</td>\n",
       "      <td>wild_dog</td>\n",
       "      <td>dingo</td>\n",
       "      <td>NaN</td>\n",
       "      <td>NaN</td>\n",
       "      <td>NaN</td>\n",
       "      <td>NaN</td>\n",
       "    </tr>\n",
       "    <tr>\n",
       "      <th>4</th>\n",
       "      <td>060b163b5ad74c889c47b9f421825cdb</td>\n",
       "      <td>dingo</td>\n",
       "      <td>dingo</td>\n",
       "      <td>wild_dog</td>\n",
       "      <td>dingo</td>\n",
       "      <td>NaN</td>\n",
       "      <td>NaN</td>\n",
       "      <td>NaN</td>\n",
       "      <td>NaN</td>\n",
       "    </tr>\n",
       "  </tbody>\n",
       "</table>\n",
       "</div>"
      ],
      "text/plain": [
       "                                 id  breed label_new        L1     L2   L3  \\\n",
       "0  001513dfcb2ffafc82cccf4d8bbaba97  dingo     dingo  wild_dog  dingo  NaN   \n",
       "1  00a338a92e4e7bf543340dc849230e75  dingo     dingo  wild_dog  dingo  NaN   \n",
       "2  0120343862761d052d6a7ade81625c94  dingo     dingo  wild_dog  dingo  NaN   \n",
       "3  02b1c50fb7315423a664f3ce68c94e30  dingo     dingo  wild_dog  dingo  NaN   \n",
       "4  060b163b5ad74c889c47b9f421825cdb  dingo     dingo  wild_dog  dingo  NaN   \n",
       "\n",
       "    L4   L5   L6  \n",
       "0  NaN  NaN  NaN  \n",
       "1  NaN  NaN  NaN  \n",
       "2  NaN  NaN  NaN  \n",
       "3  NaN  NaN  NaN  \n",
       "4  NaN  NaN  NaN  "
      ]
     },
     "execution_count": 42,
     "metadata": {},
     "output_type": "execute_result"
    }
   ],
   "source": [
    "L2_breed=breed_set.iloc[np.where(breed.isin(L2_all))]\n",
    "L2_breed=L2_breed.merge(hier_set, left_on=\"breed\", right_on=\"L2\")\n",
    "L2_breed.head()"
   ]
  },
  {
   "cell_type": "code",
   "execution_count": 43,
   "metadata": {},
   "outputs": [
    {
     "data": {
      "text/plain": [
       "(451, 9)"
      ]
     },
     "execution_count": 43,
     "metadata": {},
     "output_type": "execute_result"
    }
   ],
   "source": [
    "tochange=np.random.choice(L2_breed.shape[0],math.ceil(L2_breed.shape[0]/2),replace=False)\n",
    "L2_breed_all_index=set(np.arange(L2_breed.shape[0]))\n",
    "unchange=list(L2_breed_all_index-set(tochange))\n",
    "L2_breed_tochange=L2_breed.loc[tochange]\n",
    "L2_breed_tochange['label_new']=L2_breed_tochange['L1']\n",
    "L2_breed_tochange.shape"
   ]
  },
  {
   "cell_type": "code",
   "execution_count": 44,
   "metadata": {},
   "outputs": [
    {
     "data": {
      "text/plain": [
       "(901, 9)"
      ]
     },
     "execution_count": 44,
     "metadata": {},
     "output_type": "execute_result"
    }
   ],
   "source": [
    "L2_breed.shape"
   ]
  },
  {
   "cell_type": "code",
   "execution_count": 45,
   "metadata": {},
   "outputs": [
    {
     "data": {
      "text/plain": [
       "(450, 9)"
      ]
     },
     "execution_count": 45,
     "metadata": {},
     "output_type": "execute_result"
    }
   ],
   "source": [
    "L2_breed_unchange=L2_breed.loc[unchange]\n",
    "L2_breed_unchange.shape"
   ]
  },
  {
   "cell_type": "code",
   "execution_count": 46,
   "metadata": {},
   "outputs": [
    {
     "data": {
      "text/plain": [
       "(901, 9)"
      ]
     },
     "execution_count": 46,
     "metadata": {},
     "output_type": "execute_result"
    }
   ],
   "source": [
    "L2_new=pd.concat([L2_breed_unchange,L2_breed_tochange])\n",
    "L2_new.shape"
   ]
  },
  {
   "cell_type": "code",
   "execution_count": 47,
   "metadata": {},
   "outputs": [
    {
     "data": {
      "text/html": [
       "<div>\n",
       "<style>\n",
       "    .dataframe thead tr:only-child th {\n",
       "        text-align: right;\n",
       "    }\n",
       "\n",
       "    .dataframe thead th {\n",
       "        text-align: left;\n",
       "    }\n",
       "\n",
       "    .dataframe tbody tr th {\n",
       "        vertical-align: top;\n",
       "    }\n",
       "</style>\n",
       "<table border=\"1\" class=\"dataframe\">\n",
       "  <thead>\n",
       "    <tr style=\"text-align: right;\">\n",
       "      <th></th>\n",
       "      <th>id</th>\n",
       "      <th>breed</th>\n",
       "      <th>label_new</th>\n",
       "      <th>L1</th>\n",
       "      <th>L2</th>\n",
       "      <th>L3</th>\n",
       "      <th>L4</th>\n",
       "      <th>L5</th>\n",
       "      <th>L6</th>\n",
       "    </tr>\n",
       "  </thead>\n",
       "  <tbody>\n",
       "    <tr>\n",
       "      <th>291</th>\n",
       "      <td>20ca77608e80e914e6eb60d5e08caf6d</td>\n",
       "      <td>dhole</td>\n",
       "      <td>wild_dog</td>\n",
       "      <td>wild_dog</td>\n",
       "      <td>dhole</td>\n",
       "      <td>NaN</td>\n",
       "      <td>NaN</td>\n",
       "      <td>NaN</td>\n",
       "      <td>NaN</td>\n",
       "    </tr>\n",
       "    <tr>\n",
       "      <th>828</th>\n",
       "      <td>6860f494b5115c719bdf77747b046f18</td>\n",
       "      <td>great_pyrenees</td>\n",
       "      <td>domestic_dog</td>\n",
       "      <td>domestic_dog</td>\n",
       "      <td>great_pyrenees</td>\n",
       "      <td>NaN</td>\n",
       "      <td>NaN</td>\n",
       "      <td>NaN</td>\n",
       "      <td>NaN</td>\n",
       "    </tr>\n",
       "    <tr>\n",
       "      <th>888</th>\n",
       "      <td>e6b47a2f62d0956fae1f3970f310b64a</td>\n",
       "      <td>great_pyrenees</td>\n",
       "      <td>domestic_dog</td>\n",
       "      <td>domestic_dog</td>\n",
       "      <td>great_pyrenees</td>\n",
       "      <td>NaN</td>\n",
       "      <td>NaN</td>\n",
       "      <td>NaN</td>\n",
       "      <td>NaN</td>\n",
       "    </tr>\n",
       "    <tr>\n",
       "      <th>14</th>\n",
       "      <td>33c24b1ebb9ee4c6b2714cac928f1803</td>\n",
       "      <td>dingo</td>\n",
       "      <td>wild_dog</td>\n",
       "      <td>wild_dog</td>\n",
       "      <td>dingo</td>\n",
       "      <td>NaN</td>\n",
       "      <td>NaN</td>\n",
       "      <td>NaN</td>\n",
       "      <td>NaN</td>\n",
       "    </tr>\n",
       "    <tr>\n",
       "      <th>243</th>\n",
       "      <td>a307fca579f19edcc2311fe216679c37</td>\n",
       "      <td>african_hunting_dog</td>\n",
       "      <td>wild_dog</td>\n",
       "      <td>wild_dog</td>\n",
       "      <td>african_hunting_dog</td>\n",
       "      <td>NaN</td>\n",
       "      <td>NaN</td>\n",
       "      <td>NaN</td>\n",
       "      <td>NaN</td>\n",
       "    </tr>\n",
       "  </tbody>\n",
       "</table>\n",
       "</div>"
      ],
      "text/plain": [
       "                                   id                breed     label_new  \\\n",
       "291  20ca77608e80e914e6eb60d5e08caf6d                dhole      wild_dog   \n",
       "828  6860f494b5115c719bdf77747b046f18       great_pyrenees  domestic_dog   \n",
       "888  e6b47a2f62d0956fae1f3970f310b64a       great_pyrenees  domestic_dog   \n",
       "14   33c24b1ebb9ee4c6b2714cac928f1803                dingo      wild_dog   \n",
       "243  a307fca579f19edcc2311fe216679c37  african_hunting_dog      wild_dog   \n",
       "\n",
       "               L1                   L2   L3   L4   L5   L6  \n",
       "291      wild_dog                dhole  NaN  NaN  NaN  NaN  \n",
       "828  domestic_dog       great_pyrenees  NaN  NaN  NaN  NaN  \n",
       "888  domestic_dog       great_pyrenees  NaN  NaN  NaN  NaN  \n",
       "14       wild_dog                dingo  NaN  NaN  NaN  NaN  \n",
       "243      wild_dog  african_hunting_dog  NaN  NaN  NaN  NaN  "
      ]
     },
     "execution_count": 47,
     "metadata": {},
     "output_type": "execute_result"
    }
   ],
   "source": [
    "L2_breed_tochange.head()"
   ]
  },
  {
   "cell_type": "code",
   "execution_count": 52,
   "metadata": {},
   "outputs": [
    {
     "data": {
      "text/plain": [
       "10222"
      ]
     },
     "execution_count": 52,
     "metadata": {},
     "output_type": "execute_result"
    }
   ],
   "source": [
    "L6_new.shape[0]+L5_new.shape[0]+L4_new.shape[0]+L3_new.shape[0]+L2_new.shape[0]"
   ]
  },
  {
   "cell_type": "code",
   "execution_count": 49,
   "metadata": {},
   "outputs": [
    {
     "data": {
      "text/plain": [
       "(10222, 3)"
      ]
     },
     "execution_count": 49,
     "metadata": {},
     "output_type": "execute_result"
    }
   ],
   "source": [
    "breed_set.shape"
   ]
  },
  {
   "cell_type": "code",
   "execution_count": 58,
   "metadata": {},
   "outputs": [],
   "source": [
    "all_new=pd.concat([L6_new,L5_new,L4_new,L3_new,L2_new])"
   ]
  },
  {
   "cell_type": "code",
   "execution_count": 53,
   "metadata": {},
   "outputs": [
    {
     "data": {
      "text/plain": [
       "9167"
      ]
     },
     "execution_count": 53,
     "metadata": {},
     "output_type": "execute_result"
    }
   ],
   "source": [
    "L5_new.shape[0]+L4_new.shape[0]+L3_new.shape[0]"
   ]
  },
  {
   "cell_type": "code",
   "execution_count": 62,
   "metadata": {
    "collapsed": true
   },
   "outputs": [],
   "source": [
    "all_new.to_csv(\"new_labels.csv\", encoding='utf-8',index=False)"
   ]
  },
  {
   "cell_type": "code",
   "execution_count": 63,
   "metadata": {},
   "outputs": [
    {
     "data": {
      "text/html": [
       "<div>\n",
       "<style>\n",
       "    .dataframe thead tr:only-child th {\n",
       "        text-align: right;\n",
       "    }\n",
       "\n",
       "    .dataframe thead th {\n",
       "        text-align: left;\n",
       "    }\n",
       "\n",
       "    .dataframe tbody tr th {\n",
       "        vertical-align: top;\n",
       "    }\n",
       "</style>\n",
       "<table border=\"1\" class=\"dataframe\">\n",
       "  <thead>\n",
       "    <tr style=\"text-align: right;\">\n",
       "      <th></th>\n",
       "      <th>id</th>\n",
       "      <th>breed</th>\n",
       "      <th>label_new</th>\n",
       "      <th>L1</th>\n",
       "      <th>L2</th>\n",
       "      <th>L3</th>\n",
       "      <th>L4</th>\n",
       "      <th>L5</th>\n",
       "      <th>L6</th>\n",
       "    </tr>\n",
       "  </thead>\n",
       "  <tbody>\n",
       "    <tr>\n",
       "      <th>0</th>\n",
       "      <td>01f8540fb1084107a6eb3e528f82c1aa</td>\n",
       "      <td>welsh_springer_spaniel</td>\n",
       "      <td>welsh_springer_spaniel</td>\n",
       "      <td>domestic_dog</td>\n",
       "      <td>hunting_dog</td>\n",
       "      <td>sporting_dog</td>\n",
       "      <td>spaniel</td>\n",
       "      <td>springer_spaniel</td>\n",
       "      <td>welsh_springer_spaniel</td>\n",
       "    </tr>\n",
       "    <tr>\n",
       "      <th>1</th>\n",
       "      <td>02ef5f19db8cf4da62016a1067bdc548</td>\n",
       "      <td>welsh_springer_spaniel</td>\n",
       "      <td>welsh_springer_spaniel</td>\n",
       "      <td>domestic_dog</td>\n",
       "      <td>hunting_dog</td>\n",
       "      <td>sporting_dog</td>\n",
       "      <td>spaniel</td>\n",
       "      <td>springer_spaniel</td>\n",
       "      <td>welsh_springer_spaniel</td>\n",
       "    </tr>\n",
       "    <tr>\n",
       "      <th>2</th>\n",
       "      <td>bd9b29f039b5ecf255916a26662070c0</td>\n",
       "      <td>english_springer</td>\n",
       "      <td>english_springer</td>\n",
       "      <td>domestic_dog</td>\n",
       "      <td>hunting_dog</td>\n",
       "      <td>sporting_dog</td>\n",
       "      <td>spaniel</td>\n",
       "      <td>springer_spaniel</td>\n",
       "      <td>english_springer</td>\n",
       "    </tr>\n",
       "    <tr>\n",
       "      <th>3</th>\n",
       "      <td>04d6fe2d5ad29be79083e5c9cf3d9b0d</td>\n",
       "      <td>welsh_springer_spaniel</td>\n",
       "      <td>welsh_springer_spaniel</td>\n",
       "      <td>domestic_dog</td>\n",
       "      <td>hunting_dog</td>\n",
       "      <td>sporting_dog</td>\n",
       "      <td>spaniel</td>\n",
       "      <td>springer_spaniel</td>\n",
       "      <td>welsh_springer_spaniel</td>\n",
       "    </tr>\n",
       "    <tr>\n",
       "      <th>4</th>\n",
       "      <td>0672befac9ea0c8fe82c37b5a634d87c</td>\n",
       "      <td>welsh_springer_spaniel</td>\n",
       "      <td>welsh_springer_spaniel</td>\n",
       "      <td>domestic_dog</td>\n",
       "      <td>hunting_dog</td>\n",
       "      <td>sporting_dog</td>\n",
       "      <td>spaniel</td>\n",
       "      <td>springer_spaniel</td>\n",
       "      <td>welsh_springer_spaniel</td>\n",
       "    </tr>\n",
       "  </tbody>\n",
       "</table>\n",
       "</div>"
      ],
      "text/plain": [
       "                                 id                   breed  \\\n",
       "0  01f8540fb1084107a6eb3e528f82c1aa  welsh_springer_spaniel   \n",
       "1  02ef5f19db8cf4da62016a1067bdc548  welsh_springer_spaniel   \n",
       "2  bd9b29f039b5ecf255916a26662070c0        english_springer   \n",
       "3  04d6fe2d5ad29be79083e5c9cf3d9b0d  welsh_springer_spaniel   \n",
       "4  0672befac9ea0c8fe82c37b5a634d87c  welsh_springer_spaniel   \n",
       "\n",
       "                label_new            L1           L2            L3       L4  \\\n",
       "0  welsh_springer_spaniel  domestic_dog  hunting_dog  sporting_dog  spaniel   \n",
       "1  welsh_springer_spaniel  domestic_dog  hunting_dog  sporting_dog  spaniel   \n",
       "2        english_springer  domestic_dog  hunting_dog  sporting_dog  spaniel   \n",
       "3  welsh_springer_spaniel  domestic_dog  hunting_dog  sporting_dog  spaniel   \n",
       "4  welsh_springer_spaniel  domestic_dog  hunting_dog  sporting_dog  spaniel   \n",
       "\n",
       "                 L5                      L6  \n",
       "0  springer_spaniel  welsh_springer_spaniel  \n",
       "1  springer_spaniel  welsh_springer_spaniel  \n",
       "2  springer_spaniel        english_springer  \n",
       "3  springer_spaniel  welsh_springer_spaniel  \n",
       "4  springer_spaniel  welsh_springer_spaniel  "
      ]
     },
     "execution_count": 63,
     "metadata": {},
     "output_type": "execute_result"
    }
   ],
   "source": [
    "test=pd.read_csv(\"new_labels.csv\")\n",
    "test.head()"
   ]
  },
  {
   "cell_type": "code",
   "execution_count": 64,
   "metadata": {},
   "outputs": [
    {
     "name": "stdout",
     "output_type": "stream",
     "text": [
      "<class 'pandas.core.frame.DataFrame'>\n",
      "RangeIndex: 10222 entries, 0 to 10221\n",
      "Data columns (total 9 columns):\n",
      "id           10222 non-null object\n",
      "breed        10222 non-null object\n",
      "label_new    10222 non-null object\n",
      "L1           10222 non-null object\n",
      "L2           10222 non-null object\n",
      "L3           9321 non-null object\n",
      "L4           7360 non-null object\n",
      "L5           2902 non-null object\n",
      "L6           154 non-null object\n",
      "dtypes: object(9)\n",
      "memory usage: 718.8+ KB\n"
     ]
    }
   ],
   "source": [
    "test.info()"
   ]
  },
  {
   "cell_type": "code",
   "execution_count": null,
   "metadata": {
    "collapsed": true
   },
   "outputs": [],
   "source": []
  }
 ],
 "metadata": {
  "kernelspec": {
   "display_name": "Python 3",
   "language": "python",
   "name": "python3"
  },
  "language_info": {
   "codemirror_mode": {
    "name": "ipython",
    "version": 3
   },
   "file_extension": ".py",
   "mimetype": "text/x-python",
   "name": "python",
   "nbconvert_exporter": "python",
   "pygments_lexer": "ipython3",
   "version": "3.6.1"
  }
 },
 "nbformat": 4,
 "nbformat_minor": 2
}
